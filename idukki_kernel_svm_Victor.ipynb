{
  "nbformat": 4,
  "nbformat_minor": 0,
  "metadata": {
    "colab": {
      "name": "idukki_kernel_svm_Victor.ipynb",
      "provenance": [],
      "collapsed_sections": [],
      "toc_visible": true,
      "machine_shape": "hm"
    },
    "kernelspec": {
      "name": "python3",
      "display_name": "Python 3"
    }
  },
  "cells": [
    {
      "cell_type": "markdown",
      "metadata": {
        "id": "LWd1UlMnhT2s",
        "colab_type": "text"
      },
      "source": [
        "## Importing the libraries"
      ]
    },
    {
      "cell_type": "code",
      "metadata": {
        "id": "YvGPUQaHhXfL",
        "colab_type": "code",
        "outputId": "a22b3a69-c246-4ac0-8ee1-1c6ca534b343",
        "colab": {
          "base_uri": "https://localhost:8080/",
          "height": 156
        }
      },
      "source": [
        "import numpy as np\n",
        "import pandas as pd\n",
        "from sklearn.model_selection import train_test_split\n",
        "from sklearn.preprocessing import StandardScaler\n",
        "from sklearn.svm import SVC\n",
        "from google.colab import drive\n",
        "drive.mount('/content/drive')\n",
        "from matplotlib.colors import ListedColormap\n",
        "from sklearn.ensemble import RandomForestClassifier\n",
        "from sklearn import metrics\n",
        "import seaborn as sns\n",
        "import matplotlib.pyplot as plt\n",
        "import math\n",
        "%matplotlib inline"
      ],
      "execution_count": 0,
      "outputs": [
        {
          "output_type": "stream",
          "text": [
            "Go to this URL in a browser: https://accounts.google.com/o/oauth2/auth?client_id=947318989803-6bn6qk8qdgf4n4g3pfee6491hc0brc4i.apps.googleusercontent.com&redirect_uri=urn%3aietf%3awg%3aoauth%3a2.0%3aoob&response_type=code&scope=email%20https%3a%2f%2fwww.googleapis.com%2fauth%2fdocs.test%20https%3a%2f%2fwww.googleapis.com%2fauth%2fdrive%20https%3a%2f%2fwww.googleapis.com%2fauth%2fdrive.photos.readonly%20https%3a%2f%2fwww.googleapis.com%2fauth%2fpeopleapi.readonly\n",
            "\n",
            "Enter your authorization code:\n",
            "··········\n",
            "Mounted at /content/drive\n"
          ],
          "name": "stdout"
        },
        {
          "output_type": "stream",
          "text": [
            "/usr/local/lib/python3.6/dist-packages/statsmodels/tools/_testing.py:19: FutureWarning: pandas.util.testing is deprecated. Use the functions in the public API at pandas.testing instead.\n",
            "  import pandas.util.testing as tm\n"
          ],
          "name": "stderr"
        }
      ]
    },
    {
      "cell_type": "markdown",
      "metadata": {
        "id": "K1VMqkGvhc3-",
        "colab_type": "text"
      },
      "source": [
        "## Importing the dataset"
      ]
    },
    {
      "cell_type": "code",
      "metadata": {
        "id": "M52QDmyzhh9s",
        "colab_type": "code",
        "outputId": "1ceb7610-0535-4e52-ff5a-cc284539baa9",
        "colab": {
          "base_uri": "https://localhost:8080/",
          "height": 34
        }
      },
      "source": [
        "dataset = pd.read_csv('./drive/My Drive/Idukki_dataset/short_database_idukki.csv')\n",
        "# remove outliers (-9999) from all columns and delete corresponding entire row.\n",
        "# this accounts for 5% of total data.\n",
        "\n",
        "dataset = dataset[dataset.geology != -9999] #drop geology outliers\n",
        "dataset = dataset[dataset.geomorphology != -9999] #drop geomorphology outliers\n",
        "dataset = dataset[dataset.dem != -9999] #drop dem outliers\n",
        "dataset = dataset[dataset.rainfall != -9999] #drop rainfall outliers\n",
        "dataset = dataset[dataset['road distance'] != -9999] #drop road distance outliers\n",
        "dataset = dataset[dataset.slope != -9999] #drop slope outliers\n",
        "dataset = dataset[dataset.stream_power_index != -9999] #drop stream_power_index outliers\n",
        "dataset = dataset[dataset['distance from streams'] != -9999] #drop distance from streams outliers\n",
        "dataset = dataset[dataset.topographic_wetness_index != -9999] #drop topographic_wetness_index outliers\n",
        "dataset = dataset[dataset.distance_from_lineaments != -9999] #drop distance_from_lineaments outliers\n",
        "\n",
        "X = dataset.iloc[:, :-1].values\n",
        "y = dataset.iloc[:, -1].values\n",
        "print(f'After filtering outliers, X shape: {X.shape} y shape: {y.shape}')"
      ],
      "execution_count": 0,
      "outputs": [
        {
          "output_type": "stream",
          "text": [
            "After filtering outliers, X shape: (296759, 12) y shape: (296759,)\n"
          ],
          "name": "stdout"
        }
      ]
    },
    {
      "cell_type": "code",
      "metadata": {
        "id": "rG67pMQwh6Ut",
        "colab_type": "code",
        "outputId": "eabb4c4d-faa4-4be9-d7ed-dab4fd3ee134",
        "colab": {
          "base_uri": "https://localhost:8080/",
          "height": 351
        }
      },
      "source": [
        "print(f'y data positive: {np.count_nonzero(y == 1)/len(y) * 100}')\n",
        "dataset.describe()"
      ],
      "execution_count": 0,
      "outputs": [
        {
          "output_type": "stream",
          "text": [
            "y data positive: 13.460080401942317\n"
          ],
          "name": "stdout"
        },
        {
          "output_type": "execute_result",
          "data": {
            "text/html": [
              "<div>\n",
              "<style scoped>\n",
              "    .dataframe tbody tr th:only-of-type {\n",
              "        vertical-align: middle;\n",
              "    }\n",
              "\n",
              "    .dataframe tbody tr th {\n",
              "        vertical-align: top;\n",
              "    }\n",
              "\n",
              "    .dataframe thead th {\n",
              "        text-align: right;\n",
              "    }\n",
              "</style>\n",
              "<table border=\"1\" class=\"dataframe\">\n",
              "  <thead>\n",
              "    <tr style=\"text-align: right;\">\n",
              "      <th></th>\n",
              "      <th>Longitude</th>\n",
              "      <th>Lattitude</th>\n",
              "      <th>geology</th>\n",
              "      <th>geomorphology</th>\n",
              "      <th>dem</th>\n",
              "      <th>rainfall</th>\n",
              "      <th>road distance</th>\n",
              "      <th>slope</th>\n",
              "      <th>stream_power_index</th>\n",
              "      <th>distance from streams</th>\n",
              "      <th>topographic_wetness_index</th>\n",
              "      <th>distance_from_lineaments</th>\n",
              "      <th>Landslide</th>\n",
              "    </tr>\n",
              "  </thead>\n",
              "  <tbody>\n",
              "    <tr>\n",
              "      <th>count</th>\n",
              "      <td>296759.000000</td>\n",
              "      <td>296759.000000</td>\n",
              "      <td>296759.000000</td>\n",
              "      <td>296759.000000</td>\n",
              "      <td>296759.000000</td>\n",
              "      <td>296759.000000</td>\n",
              "      <td>296759.000000</td>\n",
              "      <td>296759.000000</td>\n",
              "      <td>296759.000000</td>\n",
              "      <td>296759.000000</td>\n",
              "      <td>296759.000000</td>\n",
              "      <td>296759.000000</td>\n",
              "      <td>296759.000000</td>\n",
              "    </tr>\n",
              "    <tr>\n",
              "      <th>mean</th>\n",
              "      <td>76.922005</td>\n",
              "      <td>9.866787</td>\n",
              "      <td>3.020710</td>\n",
              "      <td>1.797742</td>\n",
              "      <td>1.486499</td>\n",
              "      <td>1.486499</td>\n",
              "      <td>2.519213</td>\n",
              "      <td>2.367200</td>\n",
              "      <td>1.995667</td>\n",
              "      <td>1.428091</td>\n",
              "      <td>3.048113</td>\n",
              "      <td>3.217722</td>\n",
              "      <td>0.134601</td>\n",
              "    </tr>\n",
              "    <tr>\n",
              "      <th>std</th>\n",
              "      <td>0.044112</td>\n",
              "      <td>0.043504</td>\n",
              "      <td>0.142413</td>\n",
              "      <td>0.741522</td>\n",
              "      <td>0.499819</td>\n",
              "      <td>0.499819</td>\n",
              "      <td>1.198152</td>\n",
              "      <td>1.007293</td>\n",
              "      <td>0.364939</td>\n",
              "      <td>0.760744</td>\n",
              "      <td>0.703476</td>\n",
              "      <td>1.724394</td>\n",
              "      <td>0.341297</td>\n",
              "    </tr>\n",
              "    <tr>\n",
              "      <th>min</th>\n",
              "      <td>76.842500</td>\n",
              "      <td>9.788333</td>\n",
              "      <td>3.000000</td>\n",
              "      <td>1.000000</td>\n",
              "      <td>1.000000</td>\n",
              "      <td>1.000000</td>\n",
              "      <td>1.000000</td>\n",
              "      <td>1.000000</td>\n",
              "      <td>1.000000</td>\n",
              "      <td>1.000000</td>\n",
              "      <td>2.000000</td>\n",
              "      <td>1.000000</td>\n",
              "      <td>0.000000</td>\n",
              "    </tr>\n",
              "    <tr>\n",
              "      <th>25%</th>\n",
              "      <td>76.883889</td>\n",
              "      <td>9.829167</td>\n",
              "      <td>3.000000</td>\n",
              "      <td>1.000000</td>\n",
              "      <td>1.000000</td>\n",
              "      <td>1.000000</td>\n",
              "      <td>2.000000</td>\n",
              "      <td>2.000000</td>\n",
              "      <td>2.000000</td>\n",
              "      <td>1.000000</td>\n",
              "      <td>3.000000</td>\n",
              "      <td>2.000000</td>\n",
              "      <td>0.000000</td>\n",
              "    </tr>\n",
              "    <tr>\n",
              "      <th>50%</th>\n",
              "      <td>76.921944</td>\n",
              "      <td>9.867222</td>\n",
              "      <td>3.000000</td>\n",
              "      <td>2.000000</td>\n",
              "      <td>1.000000</td>\n",
              "      <td>1.000000</td>\n",
              "      <td>2.000000</td>\n",
              "      <td>2.000000</td>\n",
              "      <td>2.000000</td>\n",
              "      <td>1.000000</td>\n",
              "      <td>3.000000</td>\n",
              "      <td>3.000000</td>\n",
              "      <td>0.000000</td>\n",
              "    </tr>\n",
              "    <tr>\n",
              "      <th>75%</th>\n",
              "      <td>76.960278</td>\n",
              "      <td>9.904444</td>\n",
              "      <td>3.000000</td>\n",
              "      <td>2.000000</td>\n",
              "      <td>2.000000</td>\n",
              "      <td>2.000000</td>\n",
              "      <td>3.000000</td>\n",
              "      <td>3.000000</td>\n",
              "      <td>2.000000</td>\n",
              "      <td>2.000000</td>\n",
              "      <td>3.000000</td>\n",
              "      <td>4.000000</td>\n",
              "      <td>0.000000</td>\n",
              "    </tr>\n",
              "    <tr>\n",
              "      <th>max</th>\n",
              "      <td>76.998889</td>\n",
              "      <td>9.944722</td>\n",
              "      <td>4.000000</td>\n",
              "      <td>4.000000</td>\n",
              "      <td>2.000000</td>\n",
              "      <td>2.000000</td>\n",
              "      <td>6.000000</td>\n",
              "      <td>7.000000</td>\n",
              "      <td>5.000000</td>\n",
              "      <td>5.000000</td>\n",
              "      <td>5.000000</td>\n",
              "      <td>6.000000</td>\n",
              "      <td>1.000000</td>\n",
              "    </tr>\n",
              "  </tbody>\n",
              "</table>\n",
              "</div>"
            ],
            "text/plain": [
              "           Longitude      Lattitude  ...  distance_from_lineaments      Landslide\n",
              "count  296759.000000  296759.000000  ...             296759.000000  296759.000000\n",
              "mean       76.922005       9.866787  ...                  3.217722       0.134601\n",
              "std         0.044112       0.043504  ...                  1.724394       0.341297\n",
              "min        76.842500       9.788333  ...                  1.000000       0.000000\n",
              "25%        76.883889       9.829167  ...                  2.000000       0.000000\n",
              "50%        76.921944       9.867222  ...                  3.000000       0.000000\n",
              "75%        76.960278       9.904444  ...                  4.000000       0.000000\n",
              "max        76.998889       9.944722  ...                  6.000000       1.000000\n",
              "\n",
              "[8 rows x 13 columns]"
            ]
          },
          "metadata": {
            "tags": []
          },
          "execution_count": 3
        }
      ]
    },
    {
      "cell_type": "code",
      "metadata": {
        "id": "8EM55M9ioZFR",
        "colab_type": "code",
        "colab": {}
      },
      "source": [
        "#plot histogram helper function\n",
        "def plot_histogram(axis_id, data_col, title):\n",
        "  axis_id.hist(data_col)\n",
        "  axis_id.set_title(title)"
      ],
      "execution_count": 0,
      "outputs": []
    },
    {
      "cell_type": "code",
      "metadata": {
        "id": "octEbHNelnuX",
        "colab_type": "code",
        "outputId": "9ec237ab-a71c-4568-f6f8-536da6305b24",
        "colab": {
          "base_uri": "https://localhost:8080/",
          "height": 421
        }
      },
      "source": [
        "geology_col = dataset['geology']\n",
        "geomorphology_col = dataset['geomorphology']\n",
        "dem_col = dataset['dem']\n",
        "rainfall_col = dataset['rainfall']\n",
        "\n",
        "road_distance_col = dataset['road distance']\n",
        "slope_col = dataset['slope']\n",
        "stream_power_index_col = dataset['stream_power_index']\n",
        "distance_from_streams_col = dataset['distance from streams']\n",
        "\n",
        "fig, (ax) = plt.subplots(ncols=4, nrows=1, sharey=True, figsize=(10, 5))\n",
        "\n",
        "plot_histogram(ax[0], geology_col, title='geology')\n",
        "plot_histogram(ax[1], geomorphology_col, title='geomorphology')\n",
        "plot_histogram(ax[2], dem_col, title='dem')\n",
        "plot_histogram(ax[3], rainfall_col, title='rainfall')\n",
        "\n",
        "count_empty_field = np.count_nonzero(dem_col == -9999)\n",
        "percent_empty_val = count_empty_field/len(dem_col) * 100\n",
        "print(f\"empty values: {percent_empty_val} %\")\n",
        "\n",
        "#features\n",
        "features = dataset.columns[:-1]\n",
        "print(f\"feautures: {features}\")"
      ],
      "execution_count": 0,
      "outputs": [
        {
          "output_type": "stream",
          "text": [
            "empty values: 0.0 %\n",
            "feautures: Index(['Longitude', 'Lattitude', 'geology', 'geomorphology', 'dem', 'rainfall',\n",
            "       'road distance', 'slope', 'stream_power_index', 'distance from streams',\n",
            "       'topographic_wetness_index', 'distance_from_lineaments'],\n",
            "      dtype='object')\n"
          ],
          "name": "stdout"
        },
        {
          "output_type": "display_data",
          "data": {
            "image/png": "[encoded data removed]",
            "text/plain": [
              "<Figure size 720x360 with 4 Axes>"
            ]
          },
          "metadata": {
            "tags": [],
            "needs_background": "light"
          }
        }
      ]
    },
    {
      "cell_type": "markdown",
      "metadata": {
        "id": "YvxIPVyMhmKp",
        "colab_type": "text"
      },
      "source": [
        "## Splitting the dataset into the Training set and Test set"
      ]
    },
    {
      "cell_type": "code",
      "metadata": {
        "id": "AVzJWAXIhxoC",
        "colab_type": "code",
        "outputId": "c455b3ac-d904-4f48-9e1a-c49b3e78891c",
        "colab": {
          "base_uri": "https://localhost:8080/",
          "height": 153
        }
      },
      "source": [
        "X_train, X_test, y_train, y_test = train_test_split(X, y, test_size = 0.2, random_state = 1)\n",
        "print('X_train shape:')\n",
        "print(X_train.shape)\n",
        "print('y_train shape:')\n",
        "print(y_train.shape)\n",
        "print('X_test shape:')\n",
        "print(X_test.shape)\n",
        "print('y_test shape:')\n",
        "print(y_test.shape)"
      ],
      "execution_count": 0,
      "outputs": [
        {
          "output_type": "stream",
          "text": [
            "X_train shape:\n",
            "(237407, 12)\n",
            "y_train shape:\n",
            "(237407,)\n",
            "X_test shape:\n",
            "(59352, 12)\n",
            "y_test shape:\n",
            "(59352,)\n"
          ],
          "name": "stdout"
        }
      ]
    },
    {
      "cell_type": "markdown",
      "metadata": {
        "id": "aMV6oypWjbCz",
        "colab_type": "text"
      },
      "source": [
        "# Random Forest Classifier"
      ]
    },
    {
      "cell_type": "code",
      "metadata": {
        "id": "SYDgPWb6pBJh",
        "colab_type": "code",
        "colab": {}
      },
      "source": [
        "def generate_features_weightage_plot(feature_imp):\n",
        "  # Creating a bar plot\n",
        "  sns.barplot(x=feature_imp, y=feature_imp.index)\n",
        "  # Add labels to your graph\n",
        "  plt.xlabel('Feature Importance Score')\n",
        "  plt.ylabel('Features')\n",
        "  plt.title(\"Visualizing Important Features\")\n",
        "  plt.legend()\n",
        "  plt.show()"
      ],
      "execution_count": 0,
      "outputs": []
    },
    {
      "cell_type": "code",
      "metadata": {
        "id": "3w3s3_zjfCG5",
        "colab_type": "code",
        "outputId": "b580fc3a-9811-4739-9d96-9f10bbd9ecc9",
        "colab": {
          "base_uri": "https://localhost:8080/",
          "height": 567
        }
      },
      "source": [
        "# using all the features available\n",
        "# Create a Gaussian Classifier\n",
        "clf=RandomForestClassifier(n_estimators=100)\n",
        "\n",
        "#Train the model using the training sets y_pred=clf.predict(X_test)\n",
        "clf.fit(X_train,y_train)\n",
        "y_pred=clf.predict(X_test)\n",
        "\n",
        "# Model Accuracy, how often is the classifier correct?\n",
        "print(\"Accuracy with all features:\",metrics.accuracy_score(y_test, y_pred))\n",
        "\n",
        "# importances of features currently\n",
        "feature_imp = pd.Series(clf.feature_importances_,index=features).sort_values(ascending=False)\n",
        "print(f\"feature_imp:\")\n",
        "print(feature_imp)\n",
        "\n",
        "generate_features_weightage_plot(feature_imp=feature_imp)"
      ],
      "execution_count": 0,
      "outputs": [
        {
          "output_type": "stream",
          "text": [
            "No handles with labels found to put in legend.\n"
          ],
          "name": "stderr"
        },
        {
          "output_type": "stream",
          "text": [
            "Accuracy with all features: 0.978753875185335\n",
            "feature_imp:\n",
            "Lattitude                    0.408837\n",
            "Longitude                    0.396365\n",
            "distance_from_lineaments     0.057305\n",
            "road distance                0.045714\n",
            "slope                        0.026788\n",
            "distance from streams        0.017623\n",
            "geomorphology                0.014404\n",
            "topographic_wetness_index    0.013836\n",
            "rainfall                     0.006346\n",
            "dem                          0.006298\n",
            "stream_power_index           0.005790\n",
            "geology                      0.000695\n",
            "dtype: float64\n"
          ],
          "name": "stdout"
        },
        {
          "output_type": "display_data",
          "data": {
            "image/png": "[encoded data removed]",
            "text/plain": [
              "<Figure size 432x288 with 1 Axes>"
            ]
          },
          "metadata": {
            "tags": [],
            "needs_background": "light"
          }
        }
      ]
    },
    {
      "cell_type": "code",
      "metadata": {
        "id": "HhNtoOm3Y7Xz",
        "colab_type": "code",
        "outputId": "aa8c6159-f22b-4a0e-c686-a29a9233a172",
        "colab": {
          "base_uri": "https://localhost:8080/",
          "height": 533
        }
      },
      "source": [
        "# removing features lat and long since they assume all the importance\n",
        "# and trying with remaining 10 features.\n",
        "features_modified = ['geology', 'geomorphology', 'dem', \n",
        "                     'rainfall', 'road distance', 'slope', \n",
        "                     'stream_power_index', 'distance from streams', \n",
        "                     'topographic_wetness_index', 'distance_from_lineaments']\n",
        "X = dataset[features_modified]\n",
        "y = dataset['Landslide']\n",
        "X_train, X_test, y_train, y_test = train_test_split(X, y, test_size = 0.2, random_state = 1)\n",
        "\n",
        "clf=RandomForestClassifier(n_estimators=100)\n",
        "clf.fit(X_train,y_train)\n",
        "y_pred=clf.predict(X_test)\n",
        "print(\"Accuracy with lat and long features removed:\",metrics.accuracy_score(y_test, y_pred))\n",
        "\n",
        "# importances of features currently\n",
        "feature_imp = pd.Series(clf.feature_importances_,index=features_modified).sort_values(ascending=False)\n",
        "print(f\"feature_imp:\")\n",
        "print(feature_imp)\n",
        "\n",
        "generate_features_weightage_plot(feature_imp=feature_imp)"
      ],
      "execution_count": 0,
      "outputs": [
        {
          "output_type": "stream",
          "text": [
            "No handles with labels found to put in legend.\n"
          ],
          "name": "stderr"
        },
        {
          "output_type": "stream",
          "text": [
            "Accuracy with lat and long features removed: 0.869237767893247\n",
            "feature_imp:\n",
            "distance_from_lineaments     0.278200\n",
            "road distance                0.264284\n",
            "distance from streams        0.111866\n",
            "geomorphology                0.104991\n",
            "slope                        0.096689\n",
            "topographic_wetness_index    0.047842\n",
            "dem                          0.030353\n",
            "rainfall                     0.029295\n",
            "stream_power_index           0.025194\n",
            "geology                      0.011286\n",
            "dtype: float64\n"
          ],
          "name": "stdout"
        },
        {
          "output_type": "display_data",
          "data": {
            "image/png": "[encoded data removed]",
            "text/plain": [
              "<Figure size 432x288 with 1 Axes>"
            ]
          },
          "metadata": {
            "tags": [],
            "needs_background": "light"
          }
        }
      ]
    },
    {
      "cell_type": "code",
      "metadata": {
        "id": "cVAkhOCSmPgS",
        "colab_type": "code",
        "colab": {}
      },
      "source": [
        "# based on the finding from graph, some features at the lower end could be removed.\n",
        "# ref: https://www.datacamp.com/community/tutorials/random-forests-classifier-python\n",
        "# 'Lattitude', 'Longitude', 'distance_from_lineaments', 'road distance', 'slope', \n",
        "# 'distance from streams','geomorphology', 'topographic_wetness_index' \n",
        "features_modified = ['Lattitude', 'Longitude', 'distance_from_lineaments', \n",
        "                    'road distance', 'slope', 'distance from streams',\n",
        "                    'geomorphology', 'topographic_wetness_index']\n",
        "X = dataset[features_modified]\n",
        "y = dataset['Landslide']\n",
        "X_train, X_test, y_train, y_test = train_test_split(X, y, test_size = 0.2, random_state = 1)\n",
        "# check if accuracy has improved\n",
        "#Create a Gaussian Classifier\n",
        "clf=RandomForestClassifier(n_estimators=100)\n",
        "\n",
        "#Train the model using the training sets y_pred=clf.predict(X_test)\n",
        "clf.fit(X_train,y_train)\n",
        "\n",
        "# Model Accuracy, how often is the classifier correct?\n",
        "y_pred=clf.predict(X_test)\n",
        "print(\"Accuracy with least important features dropped:\",metrics.accuracy_score(y_test, y_pred))"
      ],
      "execution_count": 0,
      "outputs": []
    },
    {
      "cell_type": "markdown",
      "metadata": {
        "id": "sQlD_fhni6D5",
        "colab_type": "text"
      },
      "source": [
        "## Trying with non-classified dataset"
      ]
    },
    {
      "cell_type": "code",
      "metadata": {
        "id": "kaD00weRjAAv",
        "colab_type": "code",
        "outputId": "3ff7c3b0-4563-4de4-eff0-7a6feda6bb9e",
        "colab": {
          "base_uri": "https://localhost:8080/",
          "height": 317
        }
      },
      "source": [
        "df_non_class = pd.read_csv('./drive/My Drive/Idukki_dataset/short_data_idukki_non-classified.csv')\n",
        "# remove outliers\n",
        "df_non_class = df_non_class[df_non_class['Aspect'] != -9999]\n",
        "df_non_class = df_non_class[df_non_class['roaddis'] != -9999]\n",
        "df_non_class = df_non_class[df_non_class['slope'] != -9999]\n",
        "df_non_class = df_non_class[df_non_class['spi'] != -9999]\n",
        "df_non_class = df_non_class[df_non_class['strdis'] != -9999]\n",
        "df_non_class = df_non_class[df_non_class['twi'] != -9999]\n",
        "df_non_class = df_non_class[df_non_class['dem'] != -9999]\n",
        "df_non_class.describe()"
      ],
      "execution_count": 0,
      "outputs": [
        {
          "output_type": "execute_result",
          "data": {
            "text/html": [
              "<div>\n",
              "<style scoped>\n",
              "    .dataframe tbody tr th:only-of-type {\n",
              "        vertical-align: middle;\n",
              "    }\n",
              "\n",
              "    .dataframe tbody tr th {\n",
              "        vertical-align: top;\n",
              "    }\n",
              "\n",
              "    .dataframe thead th {\n",
              "        text-align: right;\n",
              "    }\n",
              "</style>\n",
              "<table border=\"1\" class=\"dataframe\">\n",
              "  <thead>\n",
              "    <tr style=\"text-align: right;\">\n",
              "      <th></th>\n",
              "      <th>Longitude</th>\n",
              "      <th>Lattitude</th>\n",
              "      <th>Aspect</th>\n",
              "      <th>lineadis</th>\n",
              "      <th>rainfall</th>\n",
              "      <th>roaddis</th>\n",
              "      <th>slope</th>\n",
              "      <th>spi</th>\n",
              "      <th>strdis</th>\n",
              "      <th>twi</th>\n",
              "      <th>dem</th>\n",
              "      <th>Landslide</th>\n",
              "    </tr>\n",
              "  </thead>\n",
              "  <tbody>\n",
              "    <tr>\n",
              "      <th>count</th>\n",
              "      <td>281082.000000</td>\n",
              "      <td>281082.000000</td>\n",
              "      <td>281082.000000</td>\n",
              "      <td>281082.000000</td>\n",
              "      <td>281082.000000</td>\n",
              "      <td>281082.000000</td>\n",
              "      <td>281082.000000</td>\n",
              "      <td>281082.000000</td>\n",
              "      <td>281082.000000</td>\n",
              "      <td>281082.000000</td>\n",
              "      <td>281082.000000</td>\n",
              "      <td>281082.000000</td>\n",
              "    </tr>\n",
              "    <tr>\n",
              "      <th>mean</th>\n",
              "      <td>76.920599</td>\n",
              "      <td>9.869717</td>\n",
              "      <td>169.977307</td>\n",
              "      <td>1904.690919</td>\n",
              "      <td>3444.510939</td>\n",
              "      <td>1494.679976</td>\n",
              "      <td>19.444350</td>\n",
              "      <td>10.968168</td>\n",
              "      <td>1004.510198</td>\n",
              "      <td>4.594491</td>\n",
              "      <td>522.099651</td>\n",
              "      <td>0.138725</td>\n",
              "    </tr>\n",
              "    <tr>\n",
              "      <th>std</th>\n",
              "      <td>0.044590</td>\n",
              "      <td>0.042766</td>\n",
              "      <td>104.471427</td>\n",
              "      <td>1305.487694</td>\n",
              "      <td>16.096581</td>\n",
              "      <td>1098.752495</td>\n",
              "      <td>9.426984</td>\n",
              "      <td>5.887097</td>\n",
              "      <td>1010.644179</td>\n",
              "      <td>0.693494</td>\n",
              "      <td>233.031596</td>\n",
              "      <td>0.345660</td>\n",
              "    </tr>\n",
              "    <tr>\n",
              "      <th>min</th>\n",
              "      <td>76.842500</td>\n",
              "      <td>9.788333</td>\n",
              "      <td>0.194888</td>\n",
              "      <td>0.000000</td>\n",
              "      <td>3363.710000</td>\n",
              "      <td>0.000000</td>\n",
              "      <td>0.000000</td>\n",
              "      <td>0.176743</td>\n",
              "      <td>0.000000</td>\n",
              "      <td>2.462460</td>\n",
              "      <td>-49.000000</td>\n",
              "      <td>0.000000</td>\n",
              "    </tr>\n",
              "    <tr>\n",
              "      <th>25%</th>\n",
              "      <td>76.881667</td>\n",
              "      <td>9.834167</td>\n",
              "      <td>64.698600</td>\n",
              "      <td>858.021000</td>\n",
              "      <td>3438.490000</td>\n",
              "      <td>577.062000</td>\n",
              "      <td>12.233900</td>\n",
              "      <td>6.517930</td>\n",
              "      <td>254.558000</td>\n",
              "      <td>4.110800</td>\n",
              "      <td>417.000000</td>\n",
              "      <td>0.000000</td>\n",
              "    </tr>\n",
              "    <tr>\n",
              "      <th>50%</th>\n",
              "      <td>76.919167</td>\n",
              "      <td>9.871111</td>\n",
              "      <td>191.915000</td>\n",
              "      <td>1730.920000</td>\n",
              "      <td>3450.830000</td>\n",
              "      <td>1306.980000</td>\n",
              "      <td>19.310300</td>\n",
              "      <td>10.512700</td>\n",
              "      <td>615.549000</td>\n",
              "      <td>4.449810</td>\n",
              "      <td>574.000000</td>\n",
              "      <td>0.000000</td>\n",
              "    </tr>\n",
              "    <tr>\n",
              "      <th>75%</th>\n",
              "      <td>76.960278</td>\n",
              "      <td>9.906389</td>\n",
              "      <td>249.386000</td>\n",
              "      <td>2684.120000</td>\n",
              "      <td>3454.450000</td>\n",
              "      <td>2193.290000</td>\n",
              "      <td>26.167100</td>\n",
              "      <td>14.755300</td>\n",
              "      <td>1489.460000</td>\n",
              "      <td>4.927840</td>\n",
              "      <td>690.000000</td>\n",
              "      <td>0.000000</td>\n",
              "    </tr>\n",
              "    <tr>\n",
              "      <th>max</th>\n",
              "      <td>76.998889</td>\n",
              "      <td>9.944722</td>\n",
              "      <td>360.000000</td>\n",
              "      <td>6705.520000</td>\n",
              "      <td>3467.750000</td>\n",
              "      <td>5666.270000</td>\n",
              "      <td>68.651400</td>\n",
              "      <td>76.702500</td>\n",
              "      <td>4844.140000</td>\n",
              "      <td>8.535450</td>\n",
              "      <td>1092.000000</td>\n",
              "      <td>1.000000</td>\n",
              "    </tr>\n",
              "  </tbody>\n",
              "</table>\n",
              "</div>"
            ],
            "text/plain": [
              "           Longitude      Lattitude  ...            dem      Landslide\n",
              "count  281082.000000  281082.000000  ...  281082.000000  281082.000000\n",
              "mean       76.920599       9.869717  ...     522.099651       0.138725\n",
              "std         0.044590       0.042766  ...     233.031596       0.345660\n",
              "min        76.842500       9.788333  ...     -49.000000       0.000000\n",
              "25%        76.881667       9.834167  ...     417.000000       0.000000\n",
              "50%        76.919167       9.871111  ...     574.000000       0.000000\n",
              "75%        76.960278       9.906389  ...     690.000000       0.000000\n",
              "max        76.998889       9.944722  ...    1092.000000       1.000000\n",
              "\n",
              "[8 rows x 12 columns]"
            ]
          },
          "metadata": {
            "tags": []
          },
          "execution_count": 19
        }
      ]
    },
    {
      "cell_type": "code",
      "metadata": {
        "id": "8Y4sHAmAjLen",
        "colab_type": "code",
        "outputId": "a9971f4d-571c-4da1-ae96-dbbde02f7954",
        "colab": {
          "base_uri": "https://localhost:8080/",
          "height": 85
        }
      },
      "source": [
        "X = df_non_class.iloc[:, 0:-1].to_numpy()\n",
        "y = df_non_class.iloc[:, -1].to_numpy()\n",
        "features_engg = ['Aspect', 'lineadis', 'rainfall', \n",
        "            'roaddis','slope', 'spi', \n",
        "            'strdis', 'twi', 'dem']\n",
        "\n",
        "X = df_non_class[features_engg]\n",
        "y = df_non_class['Landslide']\n",
        "X_train, X_test, y_train, y_test = train_test_split(X, y, test_size = 0.2, random_state = 1)\n",
        "\n",
        "# print sizes\n",
        "print(f'X shape: {X.shape}, y shape: {y.shape}')\n",
        "X_train, X_test, y_train, y_test = train_test_split(X, y, test_size = 0.2, random_state = 1)\n",
        "print(f'X_train shape: {X_train.shape}, y_train shape: {y_train.shape}')\n",
        "print(f'X_test shape: {X_test.shape}, y_test shape: {y_test.shape}')\n",
        "print(f'true values: {np.count_nonzero(y == 1)/len(y) * 100} %')"
      ],
      "execution_count": 0,
      "outputs": [
        {
          "output_type": "stream",
          "text": [
            "X shape: (281082, 11), y shape: (281082,)\n",
            "X_train shape: (224865, 11), y_train shape: (224865,)\n",
            "X_test shape: (56217, 11), y_test shape: (56217,)\n",
            "true values: 13.8724642630976 %\n"
          ],
          "name": "stdout"
        }
      ]
    },
    {
      "cell_type": "code",
      "metadata": {
        "id": "leO4l1Jelsp7",
        "colab_type": "code",
        "outputId": "2cc43fd6-595c-4f0c-d1c7-ae2193013d28",
        "colab": {
          "base_uri": "https://localhost:8080/",
          "height": 584
        }
      },
      "source": [
        "clf=RandomForestClassifier(n_estimators=100)\n",
        "clf.fit(X_train,y_train)\n",
        "y_pred=clf.predict(X_test)\n",
        "print(\"Accuracy with lat and long features removed:\",metrics.accuracy_score(y_test, y_pred))\n",
        "\n",
        "# importances of features currently\n",
        "feature_imp = pd.Series(clf.feature_importances_,index=features_engg).sort_values(ascending=False)\n",
        "print(f\"feature_imp:\")\n",
        "print(feature_imp)\n",
        "\n",
        "generate_features_weightage_plot(feature_imp=feature_imp)"
      ],
      "execution_count": 0,
      "outputs": [
        {
          "output_type": "stream",
          "text": [
            "X shape: (281082, 9), y shape: (281082,)\n",
            "X_train shape: (224865, 9), y_train shape: (224865,)\n",
            "X_test shape: (56217, 9), y_test shape: (56217,)\n",
            "true values: 13.8724642630976 %\n"
          ],
          "name": "stdout"
        },
        {
          "output_type": "stream",
          "text": [
            "No handles with labels found to put in legend.\n"
          ],
          "name": "stderr"
        },
        {
          "output_type": "stream",
          "text": [
            "Accuracy with lat and long features removed: 0.9746873721472152\n",
            "feature_imp:\n",
            "rainfall    0.224284\n",
            "roaddis     0.175730\n",
            "lineadis    0.165959\n",
            "strdis      0.141981\n",
            "dem         0.124053\n",
            "Aspect      0.065502\n",
            "slope       0.037650\n",
            "spi         0.032490\n",
            "twi         0.032350\n",
            "dtype: float64\n"
          ],
          "name": "stdout"
        },
        {
          "output_type": "display_data",
          "data": {
            "image/png": "[encoded data removed]",
            "text/plain": [
              "<Figure size 432x288 with 1 Axes>"
            ]
          },
          "metadata": {
            "tags": [],
            "needs_background": "light"
          }
        }
      ]
    },
    {
      "cell_type": "code",
      "metadata": {
        "id": "rMv0XvWrl5Sl",
        "colab_type": "code",
        "outputId": "7e036b25-7c62-4a12-932d-ba8ccb687922",
        "colab": {
          "base_uri": "https://localhost:8080/",
          "height": 231
        }
      },
      "source": [
        "# calculation of TP, TN, FP, FN and sensitivity\n",
        "print(f'y_pred shape: {y_pred.shape}, y_test shape: {y_test.shape}')\n",
        "# TP and FP\n",
        "tot_posit = np.count_nonzero(y_test == 1)\n",
        "print(f'total positives in test data: {tot_posit}')\n",
        "# idx where test data is positive\n",
        "idx_posit = np.where(y_test == 1)\n",
        "# for same idx, check y_pred. ideally these two vectors should be matching\n",
        "y_pred_pos = y_pred[idx_posit]\n",
        "TP =np.count_nonzero(y_pred_pos == 1)\n",
        "print(f'number of true positives: {TP}')\n",
        "FP = np.count_nonzero(y_pred_pos != 1)\n",
        "print(f'number of false positives: {FP}')\n",
        "# TODO: use the idx_posit if row details of failing cases required.\n",
        "\n",
        "# TN and FN\n",
        "tot_negat = np.count_nonzero(y_test == 0)\n",
        "print(f'total negatives in test data: {tot_negat}')\n",
        "# idx where test data is positive\n",
        "idx_negat = np.where(y_test == 0)\n",
        "# for same idx, check y_pred. ideally these two vectors should be matching\n",
        "y_pred_negat = y_pred[idx_negat]\n",
        "TN = np.count_nonzero(y_pred_negat == 0)\n",
        "print(f'number of true negatives: {TN}')\n",
        "FN = np.count_nonzero(y_pred_negat != 0)\n",
        "print(f'number of false negatives: {FN}')\n",
        "#Calculating sensitivity, specificity, likelihood ratio and distance from perfect point\n",
        "sensitivity = TP/(TP+FN)\n",
        "specificity = TN/(FP+TN)\n",
        "print (f'sensitivity: {sensitivity}')\n",
        "print (f'specificity: {specificity}')\n",
        "LR = sensitivity/(1-specificty)\n",
        "print (f'Likelihood ratio: {LR}')\n",
        "Dist_PP = math.sqrt(math.pow((1-sensitivity),2)+math.pow((1-specificity),2))\n",
        "print (f'Distance from perfect point: {Dist_PP}')\n"
      ],
      "execution_count": 0,
      "outputs": [
        {
          "output_type": "error",
          "ename": "NameError",
          "evalue": "ignored",
          "traceback": [
            "\u001b[0;31m---------------------------------------------------------------------------\u001b[0m",
            "\u001b[0;31mNameError\u001b[0m                                 Traceback (most recent call last)",
            "\u001b[0;32m<ipython-input-1-152115c1fbc1>\u001b[0m in \u001b[0;36m<module>\u001b[0;34m()\u001b[0m\n\u001b[1;32m      1\u001b[0m \u001b[0;31m# calculation of TP, TN, FP, FN and sesitivity\u001b[0m\u001b[0;34m\u001b[0m\u001b[0;34m\u001b[0m\u001b[0;34m\u001b[0m\u001b[0m\n\u001b[0;32m----> 2\u001b[0;31m \u001b[0mprint\u001b[0m\u001b[0;34m(\u001b[0m\u001b[0;34mf'y_pred shape: {y_pred.shape}, y_test shape: {y_test.shape}'\u001b[0m\u001b[0;34m)\u001b[0m\u001b[0;34m\u001b[0m\u001b[0;34m\u001b[0m\u001b[0m\n\u001b[0m\u001b[1;32m      3\u001b[0m \u001b[0;31m# TP and FP\u001b[0m\u001b[0;34m\u001b[0m\u001b[0;34m\u001b[0m\u001b[0;34m\u001b[0m\u001b[0m\n\u001b[1;32m      4\u001b[0m \u001b[0mtot_posit\u001b[0m \u001b[0;34m=\u001b[0m \u001b[0mnp\u001b[0m\u001b[0;34m.\u001b[0m\u001b[0mcount_nonzero\u001b[0m\u001b[0;34m(\u001b[0m\u001b[0my_test\u001b[0m \u001b[0;34m==\u001b[0m \u001b[0;36m1\u001b[0m\u001b[0;34m)\u001b[0m\u001b[0;34m\u001b[0m\u001b[0;34m\u001b[0m\u001b[0m\n\u001b[1;32m      5\u001b[0m \u001b[0mprint\u001b[0m\u001b[0;34m(\u001b[0m\u001b[0;34mf'total positives in test data: {tot_posit}'\u001b[0m\u001b[0;34m)\u001b[0m\u001b[0;34m\u001b[0m\u001b[0;34m\u001b[0m\u001b[0m\n",
            "\u001b[0;31mNameError\u001b[0m: name 'y_pred' is not defined"
          ]
        }
      ]
    },
    {
      "cell_type": "code",
      "metadata": {
        "id": "e6eBtViEurp0",
        "colab_type": "code",
        "colab": {}
      },
      "source": [
        ""
      ],
      "execution_count": 0,
      "outputs": []
    }
  ]
}